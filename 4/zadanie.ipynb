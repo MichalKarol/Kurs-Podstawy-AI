{
 "cells": [
  {
   "cell_type": "markdown",
   "metadata": {},
   "source": [
    "# Zadanie dodatkowe\n",
    "Korzystając z gotowego kodu, przygotuj model określający na podstawie danych wysokość składki ubezpieczenia zdrowotnego.\n",
    "1) Wykonaj analizę danych, przygotuj odpowiednie wykresy\n",
    "2) Na podstawie przygotowanego kodu przygotuj DataModule z odpowiednim preprocessingiem\n",
    "3) Na podstawie przygotowanego kodu przygotuj LightningModule z modelem\n",
    "4) Wykonaj analizę oraz wizualizację wyników oraz określ jakość modelu \n",
    "\n",
    "Dataset: https://www.kaggle.com/datasets/tejashvi14/medical-insurance-premium-prediction"
   ]
  },
  {
   "cell_type": "code",
   "execution_count": null,
   "metadata": {},
   "outputs": [],
   "source": [
    "import os\n",
    "import pandas as pd\n",
    "from torch.utils.data import Dataset\n",
    "from torch.utils.data import DataLoader\n",
    "from sklearn.model_selection import train_test_split\n",
    "from sklearn.preprocessing import StandardScaler, RobustScaler, OneHotEncoder\n",
    "from sklearn.compose import ColumnTransformer\n",
    "\n",
    "class MyDataModule():\n",
    "    class MyDataset(Dataset):\n",
    "        def __init__(self, x, y):\n",
    "            pass\n",
    "\n",
    "        def __len__(self):\n",
    "            pass\n",
    "\n",
    "        def __getitem__(self, idx):\n",
    "            pass\n",
    "\n",
    "    def __init__(self):\n",
    "        pass\n",
    "\n",
    "    @property\n",
    "    def train(self):\n",
    "        return MyDataModule.MyDataset(self.x_train, self.y_train)\n",
    "    \n",
    "    @property\n",
    "    def val(self):\n",
    "        return MyDataModule.MyDataset(self.x_val, self.y_val)\n",
    "    \n",
    "    @property\n",
    "    def test(self):\n",
    "        return MyDataModule.MyDataset(self.x_test, self.y_test)\n",
    "\n",
    "\n",
    "datamodule = MyDataModule()\n",
    "batch_size = 64\n",
    "train_dataloader = DataLoader(datamodule.train, batch_size=batch_size, shuffle=True, num_workers=os.cpu_count() -1)\n",
    "val_dataloader = DataLoader(datamodule.val, batch_size=batch_size, num_workers=os.cpu_count() -1)\n",
    "test_dataloader = DataLoader(datamodule.test, batch_size=batch_size, num_workers=os.cpu_count() -1)"
   ]
  },
  {
   "cell_type": "code",
   "execution_count": 207,
   "metadata": {},
   "outputs": [],
   "source": [
    "import torch\n",
    "from torch import optim, nn\n",
    "import lightning as L\n",
    "import torchmetrics as TM\n",
    "\n",
    "\n",
    "class LightningRegression(L.LightningModule):\n",
    "    def __init__(self):\n",
    "        super().__init__()\n",
    "        self.model = nn.Sequential(\n",
    "            # TODO Przygotuj architekturę modelu\n",
    "        )\n",
    "\n",
    "    def training_step(self, batch):\n",
    "        pass\n",
    "    \n",
    "    def validation_step(self, batch):\n",
    "        pass\n",
    "    \n",
    "    def test_step(self, batch):\n",
    "        pass\n",
    "\n",
    "    def configure_optimizers(self):\n",
    "        pass\n",
    "\n",
    "\n",
    "regression = LightningRegression()"
   ]
  }
 ],
 "metadata": {
  "kernelspec": {
   "display_name": ".venv",
   "language": "python",
   "name": "python3"
  },
  "language_info": {
   "codemirror_mode": {
    "name": "ipython",
    "version": 3
   },
   "file_extension": ".py",
   "mimetype": "text/x-python",
   "name": "python",
   "nbconvert_exporter": "python",
   "pygments_lexer": "ipython3",
   "version": "3.12.7"
  }
 },
 "nbformat": 4,
 "nbformat_minor": 2
}
