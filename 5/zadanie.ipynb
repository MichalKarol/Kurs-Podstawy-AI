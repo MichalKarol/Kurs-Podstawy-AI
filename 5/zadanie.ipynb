{
 "cells": [
  {
   "cell_type": "markdown",
   "metadata": {},
   "source": [
    "# Zadanie dodatkowe\n",
    "Korzystając z kodu z zajęć, przygotuj model segmentujący polipy na datasecie Kvasir-SEG (https://datasets.simula.no/kvasir-seg/).\n",
    "1) Przygotuj DataModule pozwlający na wizualizację obrazów oraz masek \n",
    "2) Na podstawie kodu z zajęć wykonaj trening architekturą UNet\n",
    "3) Zaimplementuj architekturę UNet++ na podstawie artykułu https://arxiv.org/abs/1807.10165v1"
   ]
  }
 ],
 "metadata": {
  "kernelspec": {
   "display_name": ".venv",
   "language": "python",
   "name": "python3"
  },
  "language_info": {
   "codemirror_mode": {
    "name": "ipython",
    "version": 3
   },
   "file_extension": ".py",
   "mimetype": "text/x-python",
   "name": "python",
   "nbconvert_exporter": "python",
   "pygments_lexer": "ipython3",
   "version": "3.12.7"
  }
 },
 "nbformat": 4,
 "nbformat_minor": 2
}
